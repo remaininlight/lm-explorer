{
 "cells": [
  {
   "cell_type": "code",
   "execution_count": 6,
   "metadata": {},
   "outputs": [
    {
     "name": "stdout",
     "output_type": "stream",
     "text": [
      "Requirement already satisfied: flask in /usr/local/lib/python3.5/dist-packages (from -r requirements.txt (line 1)) (1.1.1)\n",
      "Requirement already satisfied: flask-cors in /usr/local/lib/python3.5/dist-packages (from -r requirements.txt (line 3)) (3.0.8)\n",
      "Requirement already satisfied: gevent in /usr/local/lib/python3.5/dist-packages (from -r requirements.txt (line 5)) (1.4.0)\n",
      "Requirement already satisfied: pytorch-pretrained-bert>=0.6 in /usr/local/lib/python3.5/dist-packages (from -r requirements.txt (line 7)) (0.6.2)\n",
      "Requirement already satisfied: torch in /usr/local/lib/python3.5/dist-packages (from -r requirements.txt (line 9)) (1.1.0)\n",
      "Requirement already satisfied: Jinja2>=2.10.1 in /usr/local/lib/python3.5/dist-packages (from flask->-r requirements.txt (line 1)) (2.10.1)\n",
      "Requirement already satisfied: itsdangerous>=0.24 in /usr/local/lib/python3.5/dist-packages (from flask->-r requirements.txt (line 1)) (1.1.0)\n",
      "Requirement already satisfied: Werkzeug>=0.15 in /usr/local/lib/python3.5/dist-packages (from flask->-r requirements.txt (line 1)) (0.15.5)\n",
      "Requirement already satisfied: click>=5.1 in /usr/local/lib/python3.5/dist-packages (from flask->-r requirements.txt (line 1)) (7.0)\n",
      "Requirement already satisfied: Six in /usr/lib/python3/dist-packages (from flask-cors->-r requirements.txt (line 3)) (1.10.0)\n",
      "Requirement already satisfied: greenlet>=0.4.14; platform_python_implementation == \"CPython\" in /usr/local/lib/python3.5/dist-packages (from gevent->-r requirements.txt (line 5)) (0.4.15)\n",
      "Requirement already satisfied: boto3 in /usr/local/lib/python3.5/dist-packages (from pytorch-pretrained-bert>=0.6->-r requirements.txt (line 7)) (1.9.72)\n",
      "Requirement already satisfied: tqdm in /usr/local/lib/python3.5/dist-packages (from pytorch-pretrained-bert>=0.6->-r requirements.txt (line 7)) (4.32.2)\n",
      "Requirement already satisfied: regex in /usr/local/lib/python3.5/dist-packages (from pytorch-pretrained-bert>=0.6->-r requirements.txt (line 7)) (2019.6.8)\n",
      "Requirement already satisfied: numpy in /usr/local/lib/python3.5/dist-packages (from pytorch-pretrained-bert>=0.6->-r requirements.txt (line 7)) (1.15.4)\n",
      "Requirement already satisfied: requests in /usr/local/lib/python3.5/dist-packages (from pytorch-pretrained-bert>=0.6->-r requirements.txt (line 7)) (2.20.0)\n",
      "Requirement already satisfied: MarkupSafe>=0.23 in /usr/lib/python3/dist-packages (from Jinja2>=2.10.1->flask->-r requirements.txt (line 1)) (0.23)\n",
      "Requirement already satisfied: jmespath<1.0.0,>=0.7.1 in /usr/local/lib/python3.5/dist-packages (from boto3->pytorch-pretrained-bert>=0.6->-r requirements.txt (line 7)) (0.9.4)\n",
      "Requirement already satisfied: s3transfer<0.2.0,>=0.1.10 in /usr/local/lib/python3.5/dist-packages (from boto3->pytorch-pretrained-bert>=0.6->-r requirements.txt (line 7)) (0.1.13)\n",
      "Requirement already satisfied: botocore<1.13.0,>=1.12.72 in /usr/local/lib/python3.5/dist-packages (from boto3->pytorch-pretrained-bert>=0.6->-r requirements.txt (line 7)) (1.12.192)\n",
      "Requirement already satisfied: chardet<3.1.0,>=3.0.2 in /usr/local/lib/python3.5/dist-packages (from requests->pytorch-pretrained-bert>=0.6->-r requirements.txt (line 7)) (3.0.4)\n",
      "Requirement already satisfied: urllib3<1.25,>=1.21.1 in /usr/local/lib/python3.5/dist-packages (from requests->pytorch-pretrained-bert>=0.6->-r requirements.txt (line 7)) (1.24.3)\n",
      "Requirement already satisfied: idna<2.8,>=2.5 in /usr/local/lib/python3.5/dist-packages (from requests->pytorch-pretrained-bert>=0.6->-r requirements.txt (line 7)) (2.7)\n",
      "Requirement already satisfied: certifi>=2017.4.17 in /usr/local/lib/python3.5/dist-packages (from requests->pytorch-pretrained-bert>=0.6->-r requirements.txt (line 7)) (2019.3.9)\n",
      "Requirement already satisfied: python-dateutil<3.0.0,>=2.1; python_version >= \"2.7\" in /usr/local/lib/python3.5/dist-packages (from botocore<1.13.0,>=1.12.72->boto3->pytorch-pretrained-bert>=0.6->-r requirements.txt (line 7)) (2.8.0)\n",
      "Requirement already satisfied: docutils<0.15,>=0.10 in /usr/lib/python3/dist-packages (from botocore<1.13.0,>=1.12.72->boto3->pytorch-pretrained-bert>=0.6->-r requirements.txt (line 7)) (0.12)\n",
      "\u001b[33mYou are using pip version 19.0.3, however version 19.1.1 is available.\n",
      "You should consider upgrading via the 'pip install --upgrade pip' command.\u001b[0m\n"
     ]
    }
   ],
   "source": [
    "!pip3 install -r requirements.txt\n"
   ]
  },
  {
   "cell_type": "code",
   "execution_count": null,
   "metadata": {},
   "outputs": [],
   "source": [
    "path = '/users/sammy/days.txt'\n",
    "days_file = open(path,'r')\n",
    "days = days_file.read()\n",
    "\n",
    "def write_to_file(text, path):\n",
    "    with open(path, 'w') as file:\n",
    "        print(appcast, file=appcast_file)\n",
    "new_days = open(new_path,'w')\n",
    "\n",
    "title = 'Days of the Week\\n'\n",
    "new_days.write(title)\n",
    "print(title)\n",
    "\n",
    "new_days.write(days)\n",
    "print(days)\n",
    "\n",
    "days_file.close()\n",
    "new_days.close()"
   ]
  },
  {
   "cell_type": "code",
   "execution_count": 11,
   "metadata": {},
   "outputs": [],
   "source": [
    "import csv\n",
    "import inflect\n",
    "\n",
    "p = inflect.engine()\n",
    "\n",
    "def form_singular(word):\n",
    "    return p.singular_noun(word) or word\n",
    "\n",
    "occupations = []\n",
    "salaries = []\n",
    "\n",
    "with open('datasets/occupation_salaries.csv', newline='') as f:\n",
    "    reader = csv.reader(f)\n",
    "    for row in reader:\n",
    "        occupation = row[0] #.strip()\n",
    "        num_leading_spaces = len(occupation) - len(occupation.lstrip(' '))\n",
    "        try:\n",
    "            salary = float(row[1].replace(',',''))\n",
    "            if (num_leading_spaces == 6) and salary:\n",
    "                occupation = \" \".join(map(form_singular, occupation.split(' ')))\n",
    "                occupation = occupation.replace('and', 'or')\n",
    "                occupations.append(occupation)\n",
    "                salaries.append(salary)\n",
    "                #print(occupation, salary)\n",
    "        except ValueError:\n",
    "            pass\n",
    "        \n",
    "\n",
    "normalised_salaries = [(40 * (float(s) / max(salaries))) for s in salaries]\n",
    "#print('normalised_salaries ', normalised_salaries )\n",
    "                "
   ]
  },
  {
   "cell_type": "code",
   "execution_count": 31,
   "metadata": {},
   "outputs": [
    {
     "data": {
      "application/vnd.plotly.v1+json": {
       "config": {
        "plotlyServerURL": "https://plot.ly"
       },
       "data": [
        {
         "mode": "lines",
         "name": "lines",
         "type": "scatter",
         "x": [
          0,
          0.3
         ],
         "y": [
          0,
          0.3
         ]
        },
        {
         "hovertext": [
          "pilot",
          "surgeon",
          "homemaker",
          "programmer",
          "cleaner",
          "president",
          "banker",
          "footballer",
          "politician",
          "captain",
          "doctor",
          "lawyer",
          "secretary",
          "hairdresser",
          "model",
          "chef",
          "cook",
          "journalist",
          "nurse",
          "carer",
          "pilot",
          "surgeon",
          "homemaker",
          "programmer",
          "cleaner",
          "president",
          "banker",
          "footballer",
          "politician",
          "captain",
          "doctor",
          "lawyer",
          "secretary",
          "hairdresser",
          "model",
          "chef",
          "cook",
          "journalist",
          "nurse",
          "carer"
         ],
         "marker": {
          "color": [
           "rgb(215,48,39)",
           "rgb(215,48,39)",
           "rgb(215,48,39)",
           "rgb(215,48,39)",
           "rgb(215,48,39)",
           "rgb(215,48,39)",
           "rgb(215,48,39)",
           "rgb(215,48,39)",
           "rgb(215,48,39)",
           "rgb(215,48,39)",
           "rgb(215,48,39)",
           "rgb(215,48,39)",
           "rgb(215,48,39)",
           "rgb(215,48,39)",
           "rgb(215,48,39)",
           "rgb(215,48,39)",
           "rgb(215,48,39)",
           "rgb(215,48,39)",
           "rgb(215,48,39)",
           "rgb(215,48,39)",
           "rgb(215,148,39)",
           "rgb(215,148,39)",
           "rgb(215,148,39)",
           "rgb(215,148,39)",
           "rgb(215,148,39)",
           "rgb(215,148,39)",
           "rgb(215,148,39)",
           "rgb(215,148,39)",
           "rgb(215,148,39)",
           "rgb(215,148,39)",
           "rgb(215,148,39)",
           "rgb(215,148,39)",
           "rgb(215,148,39)",
           "rgb(215,148,39)",
           "rgb(215,148,39)",
           "rgb(215,148,39)",
           "rgb(215,148,39)",
           "rgb(215,148,39)",
           "rgb(215,148,39)",
           "rgb(215,148,39)"
          ],
          "size": [
           10,
           10,
           10,
           10,
           10,
           10,
           10,
           10,
           10,
           10,
           10,
           10,
           10,
           10,
           10,
           10,
           10,
           10,
           10,
           10,
           10,
           10,
           10,
           10,
           10,
           10,
           10,
           10,
           10,
           10,
           10,
           10,
           10,
           10,
           10,
           10,
           10,
           10,
           10,
           10
          ]
         },
         "mode": "markers+text",
         "text": [
          "pilot",
          "surgeon",
          "homemaker",
          "programmer",
          "cleaner",
          "president",
          "banker",
          "footballer",
          "politician",
          "captain",
          "doctor",
          "lawyer",
          "secretary",
          "hairdresser",
          "model",
          "chef",
          "cook",
          "journalist",
          "nurse",
          "carer",
          "pilot",
          "surgeon",
          "homemaker",
          "programmer",
          "cleaner",
          "president",
          "banker",
          "footballer",
          "politician",
          "captain",
          "doctor",
          "lawyer",
          "secretary",
          "hairdresser",
          "model",
          "chef",
          "cook",
          "journalist",
          "nurse",
          "carer"
         ],
         "textfont": {
          "size": [
           12,
           12,
           12,
           12,
           12,
           12,
           12,
           12,
           12,
           12,
           12,
           12,
           12,
           12,
           12,
           12,
           12,
           12,
           12,
           12,
           12,
           12,
           12,
           12,
           12,
           12,
           12,
           12,
           12,
           12,
           12,
           12,
           12,
           12,
           12,
           12,
           12,
           12,
           12,
           12
          ]
         },
         "textposition": [
          "bottom center",
          "bottom center",
          "bottom center",
          "bottom center",
          "bottom center",
          "bottom center",
          "bottom center",
          "bottom center",
          "bottom center",
          "bottom center",
          "bottom center",
          "bottom center",
          "bottom center",
          "bottom center",
          "bottom center",
          "bottom center",
          "bottom center",
          "bottom center",
          "bottom center",
          "bottom center",
          "bottom center",
          "bottom center",
          "bottom center",
          "bottom center",
          "bottom center",
          "bottom center",
          "bottom center",
          "bottom center",
          "bottom center",
          "bottom center",
          "bottom center",
          "bottom center",
          "bottom center",
          "bottom center",
          "bottom center",
          "bottom center",
          "bottom center",
          "bottom center",
          "bottom center",
          "bottom center"
         ],
         "type": "scatter",
         "x": [
          0.11593829281628132,
          0.16179782524704933,
          0.2007884941995144,
          0.2170819155871868,
          0.1255780253559351,
          0.140131545253098,
          0.1213527973741293,
          0.18400966189801693,
          0.14235257543623447,
          0.12435304094105959,
          0.16683279536664486,
          0.14243603125214577,
          0.16390564292669296,
          0.17240581288933754,
          0.14098792523145676,
          0.16160482354462147,
          0.14477983489632607,
          0.16078568622469902,
          0.198581725358963,
          0.1139798117801547,
          0.11023163795471191,
          0.09391872398555279,
          0.21834958344697952,
          0.07716551702469587,
          0.11308497563004494,
          0.06825239956378937,
          0.09953767200931907,
          0.047540188767015934,
          0.08004320971667767,
          0.09345479821786284,
          0.08463038690388203,
          0.09843639936298132,
          0.14290877990424633,
          0.210624061524868,
          0.1020924262702465,
          0.09236863255500793,
          0.1085889209061861,
          0.08081593178212643,
          0.14969319850206375,
          0.08385140355676413
         ],
         "y": [
          0.22473519295454025,
          0.2028091698884964,
          0.2511838302016258,
          0.311766617000103,
          0.23281415551900864,
          0.333084799349308,
          0.3339614123106003,
          0.30890458822250366,
          0.2504686191678047,
          0.2662200629711151,
          0.22832541167736053,
          0.26492737978696823,
          0.2522343769669533,
          0.27966104447841644,
          0.15852010995149612,
          0.24638169258832932,
          0.22688325494527817,
          0.15780122578144073,
          0.15838414058089256,
          0.2243790104985237,
          0.12829207256436348,
          0.16887826472520828,
          0.1274952068924904,
          0.07655289769172668,
          0.13319271802902222,
          0.09449852257966995,
          0.15796002000570297,
          0.16689115017652512,
          0.12230731546878815,
          0.19058794900774956,
          0.17017008736729622,
          0.12728461250662804,
          0.11873110197484493,
          0.14091064780950546,
          0.050880320370197296,
          0.09717929549515247,
          0.16074660047888756,
          0.07033571507781744,
          0.09500614181160927,
          0.07624944625422359
         ]
        }
       ],
       "layout": {
        "annotations": [
         {
          "align": "center",
          "arrowhead": 2,
          "arrowsize": 1,
          "arrowwidth": 2,
          "ax": 0.11593829281628132,
          "axref": "x",
          "ay": 0.22473519295454025,
          "ayref": "y",
          "opacity": 0.8,
          "showarrow": true,
          "x": 0.11023163795471191,
          "xref": "x",
          "y": 0.12829207256436348,
          "yref": "y"
         },
         {
          "align": "center",
          "arrowhead": 2,
          "arrowsize": 1,
          "arrowwidth": 2,
          "ax": 0.16179782524704933,
          "axref": "x",
          "ay": 0.2028091698884964,
          "ayref": "y",
          "opacity": 0.8,
          "showarrow": true,
          "x": 0.09391872398555279,
          "xref": "x",
          "y": 0.16887826472520828,
          "yref": "y"
         },
         {
          "align": "center",
          "arrowhead": 2,
          "arrowsize": 1,
          "arrowwidth": 2,
          "ax": 0.2007884941995144,
          "axref": "x",
          "ay": 0.2511838302016258,
          "ayref": "y",
          "opacity": 0.8,
          "showarrow": true,
          "x": 0.21834958344697952,
          "xref": "x",
          "y": 0.1274952068924904,
          "yref": "y"
         },
         {
          "align": "center",
          "arrowhead": 2,
          "arrowsize": 1,
          "arrowwidth": 2,
          "ax": 0.2170819155871868,
          "axref": "x",
          "ay": 0.311766617000103,
          "ayref": "y",
          "opacity": 0.8,
          "showarrow": true,
          "x": 0.07716551702469587,
          "xref": "x",
          "y": 0.07655289769172668,
          "yref": "y"
         },
         {
          "align": "center",
          "arrowhead": 2,
          "arrowsize": 1,
          "arrowwidth": 2,
          "ax": 0.1255780253559351,
          "axref": "x",
          "ay": 0.23281415551900864,
          "ayref": "y",
          "opacity": 0.8,
          "showarrow": true,
          "x": 0.11308497563004494,
          "xref": "x",
          "y": 0.13319271802902222,
          "yref": "y"
         },
         {
          "align": "center",
          "arrowhead": 2,
          "arrowsize": 1,
          "arrowwidth": 2,
          "ax": 0.140131545253098,
          "axref": "x",
          "ay": 0.333084799349308,
          "ayref": "y",
          "opacity": 0.8,
          "showarrow": true,
          "x": 0.06825239956378937,
          "xref": "x",
          "y": 0.09449852257966995,
          "yref": "y"
         },
         {
          "align": "center",
          "arrowhead": 2,
          "arrowsize": 1,
          "arrowwidth": 2,
          "ax": 0.1213527973741293,
          "axref": "x",
          "ay": 0.3339614123106003,
          "ayref": "y",
          "opacity": 0.8,
          "showarrow": true,
          "x": 0.09953767200931907,
          "xref": "x",
          "y": 0.15796002000570297,
          "yref": "y"
         },
         {
          "align": "center",
          "arrowhead": 2,
          "arrowsize": 1,
          "arrowwidth": 2,
          "ax": 0.18400966189801693,
          "axref": "x",
          "ay": 0.30890458822250366,
          "ayref": "y",
          "opacity": 0.8,
          "showarrow": true,
          "x": 0.047540188767015934,
          "xref": "x",
          "y": 0.16689115017652512,
          "yref": "y"
         },
         {
          "align": "center",
          "arrowhead": 2,
          "arrowsize": 1,
          "arrowwidth": 2,
          "ax": 0.14235257543623447,
          "axref": "x",
          "ay": 0.2504686191678047,
          "ayref": "y",
          "opacity": 0.8,
          "showarrow": true,
          "x": 0.08004320971667767,
          "xref": "x",
          "y": 0.12230731546878815,
          "yref": "y"
         },
         {
          "align": "center",
          "arrowhead": 2,
          "arrowsize": 1,
          "arrowwidth": 2,
          "ax": 0.12435304094105959,
          "axref": "x",
          "ay": 0.2662200629711151,
          "ayref": "y",
          "opacity": 0.8,
          "showarrow": true,
          "x": 0.09345479821786284,
          "xref": "x",
          "y": 0.19058794900774956,
          "yref": "y"
         },
         {
          "align": "center",
          "arrowhead": 2,
          "arrowsize": 1,
          "arrowwidth": 2,
          "ax": 0.16683279536664486,
          "axref": "x",
          "ay": 0.22832541167736053,
          "ayref": "y",
          "opacity": 0.8,
          "showarrow": true,
          "x": 0.08463038690388203,
          "xref": "x",
          "y": 0.17017008736729622,
          "yref": "y"
         },
         {
          "align": "center",
          "arrowhead": 2,
          "arrowsize": 1,
          "arrowwidth": 2,
          "ax": 0.14243603125214577,
          "axref": "x",
          "ay": 0.26492737978696823,
          "ayref": "y",
          "opacity": 0.8,
          "showarrow": true,
          "x": 0.09843639936298132,
          "xref": "x",
          "y": 0.12728461250662804,
          "yref": "y"
         },
         {
          "align": "center",
          "arrowhead": 2,
          "arrowsize": 1,
          "arrowwidth": 2,
          "ax": 0.16390564292669296,
          "axref": "x",
          "ay": 0.2522343769669533,
          "ayref": "y",
          "opacity": 0.8,
          "showarrow": true,
          "x": 0.14290877990424633,
          "xref": "x",
          "y": 0.11873110197484493,
          "yref": "y"
         },
         {
          "align": "center",
          "arrowhead": 2,
          "arrowsize": 1,
          "arrowwidth": 2,
          "ax": 0.17240581288933754,
          "axref": "x",
          "ay": 0.27966104447841644,
          "ayref": "y",
          "opacity": 0.8,
          "showarrow": true,
          "x": 0.210624061524868,
          "xref": "x",
          "y": 0.14091064780950546,
          "yref": "y"
         },
         {
          "align": "center",
          "arrowhead": 2,
          "arrowsize": 1,
          "arrowwidth": 2,
          "ax": 0.14098792523145676,
          "axref": "x",
          "ay": 0.15852010995149612,
          "ayref": "y",
          "opacity": 0.8,
          "showarrow": true,
          "x": 0.1020924262702465,
          "xref": "x",
          "y": 0.050880320370197296,
          "yref": "y"
         },
         {
          "align": "center",
          "arrowhead": 2,
          "arrowsize": 1,
          "arrowwidth": 2,
          "ax": 0.16160482354462147,
          "axref": "x",
          "ay": 0.24638169258832932,
          "ayref": "y",
          "opacity": 0.8,
          "showarrow": true,
          "x": 0.09236863255500793,
          "xref": "x",
          "y": 0.09717929549515247,
          "yref": "y"
         },
         {
          "align": "center",
          "arrowhead": 2,
          "arrowsize": 1,
          "arrowwidth": 2,
          "ax": 0.14477983489632607,
          "axref": "x",
          "ay": 0.22688325494527817,
          "ayref": "y",
          "opacity": 0.8,
          "showarrow": true,
          "x": 0.1085889209061861,
          "xref": "x",
          "y": 0.16074660047888756,
          "yref": "y"
         },
         {
          "align": "center",
          "arrowhead": 2,
          "arrowsize": 1,
          "arrowwidth": 2,
          "ax": 0.16078568622469902,
          "axref": "x",
          "ay": 0.15780122578144073,
          "ayref": "y",
          "opacity": 0.8,
          "showarrow": true,
          "x": 0.08081593178212643,
          "xref": "x",
          "y": 0.07033571507781744,
          "yref": "y"
         },
         {
          "align": "center",
          "arrowhead": 2,
          "arrowsize": 1,
          "arrowwidth": 2,
          "ax": 0.198581725358963,
          "axref": "x",
          "ay": 0.15838414058089256,
          "ayref": "y",
          "opacity": 0.8,
          "showarrow": true,
          "x": 0.14969319850206375,
          "xref": "x",
          "y": 0.09500614181160927,
          "yref": "y"
         },
         {
          "align": "center",
          "arrowhead": 2,
          "arrowsize": 1,
          "arrowwidth": 2,
          "ax": 0.1139798117801547,
          "axref": "x",
          "ay": 0.2243790104985237,
          "ayref": "y",
          "opacity": 0.8,
          "showarrow": true,
          "x": 0.08385140355676413,
          "xref": "x",
          "y": 0.07624944625422359,
          "yref": "y"
         }
        ],
        "showlegend": false,
        "template": {
         "data": {
          "bar": [
           {
            "error_x": {
             "color": "#2a3f5f"
            },
            "error_y": {
             "color": "#2a3f5f"
            },
            "marker": {
             "line": {
              "color": "#E5ECF6",
              "width": 0.5
             }
            },
            "type": "bar"
           }
          ],
          "barpolar": [
           {
            "marker": {
             "line": {
              "color": "#E5ECF6",
              "width": 0.5
             }
            },
            "type": "barpolar"
           }
          ],
          "carpet": [
           {
            "aaxis": {
             "endlinecolor": "#2a3f5f",
             "gridcolor": "white",
             "linecolor": "white",
             "minorgridcolor": "white",
             "startlinecolor": "#2a3f5f"
            },
            "baxis": {
             "endlinecolor": "#2a3f5f",
             "gridcolor": "white",
             "linecolor": "white",
             "minorgridcolor": "white",
             "startlinecolor": "#2a3f5f"
            },
            "type": "carpet"
           }
          ],
          "choropleth": [
           {
            "colorbar": {
             "outlinewidth": 0,
             "ticks": ""
            },
            "type": "choropleth"
           }
          ],
          "contour": [
           {
            "colorbar": {
             "outlinewidth": 0,
             "ticks": ""
            },
            "colorscale": [
             [
              0,
              "#0d0887"
             ],
             [
              0.1111111111111111,
              "#46039f"
             ],
             [
              0.2222222222222222,
              "#7201a8"
             ],
             [
              0.3333333333333333,
              "#9c179e"
             ],
             [
              0.4444444444444444,
              "#bd3786"
             ],
             [
              0.5555555555555556,
              "#d8576b"
             ],
             [
              0.6666666666666666,
              "#ed7953"
             ],
             [
              0.7777777777777778,
              "#fb9f3a"
             ],
             [
              0.8888888888888888,
              "#fdca26"
             ],
             [
              1,
              "#f0f921"
             ]
            ],
            "type": "contour"
           }
          ],
          "contourcarpet": [
           {
            "colorbar": {
             "outlinewidth": 0,
             "ticks": ""
            },
            "type": "contourcarpet"
           }
          ],
          "heatmap": [
           {
            "colorbar": {
             "outlinewidth": 0,
             "ticks": ""
            },
            "colorscale": [
             [
              0,
              "#0d0887"
             ],
             [
              0.1111111111111111,
              "#46039f"
             ],
             [
              0.2222222222222222,
              "#7201a8"
             ],
             [
              0.3333333333333333,
              "#9c179e"
             ],
             [
              0.4444444444444444,
              "#bd3786"
             ],
             [
              0.5555555555555556,
              "#d8576b"
             ],
             [
              0.6666666666666666,
              "#ed7953"
             ],
             [
              0.7777777777777778,
              "#fb9f3a"
             ],
             [
              0.8888888888888888,
              "#fdca26"
             ],
             [
              1,
              "#f0f921"
             ]
            ],
            "type": "heatmap"
           }
          ],
          "heatmapgl": [
           {
            "colorbar": {
             "outlinewidth": 0,
             "ticks": ""
            },
            "colorscale": [
             [
              0,
              "#0d0887"
             ],
             [
              0.1111111111111111,
              "#46039f"
             ],
             [
              0.2222222222222222,
              "#7201a8"
             ],
             [
              0.3333333333333333,
              "#9c179e"
             ],
             [
              0.4444444444444444,
              "#bd3786"
             ],
             [
              0.5555555555555556,
              "#d8576b"
             ],
             [
              0.6666666666666666,
              "#ed7953"
             ],
             [
              0.7777777777777778,
              "#fb9f3a"
             ],
             [
              0.8888888888888888,
              "#fdca26"
             ],
             [
              1,
              "#f0f921"
             ]
            ],
            "type": "heatmapgl"
           }
          ],
          "histogram": [
           {
            "marker": {
             "colorbar": {
              "outlinewidth": 0,
              "ticks": ""
             }
            },
            "type": "histogram"
           }
          ],
          "histogram2d": [
           {
            "colorbar": {
             "outlinewidth": 0,
             "ticks": ""
            },
            "colorscale": [
             [
              0,
              "#0d0887"
             ],
             [
              0.1111111111111111,
              "#46039f"
             ],
             [
              0.2222222222222222,
              "#7201a8"
             ],
             [
              0.3333333333333333,
              "#9c179e"
             ],
             [
              0.4444444444444444,
              "#bd3786"
             ],
             [
              0.5555555555555556,
              "#d8576b"
             ],
             [
              0.6666666666666666,
              "#ed7953"
             ],
             [
              0.7777777777777778,
              "#fb9f3a"
             ],
             [
              0.8888888888888888,
              "#fdca26"
             ],
             [
              1,
              "#f0f921"
             ]
            ],
            "type": "histogram2d"
           }
          ],
          "histogram2dcontour": [
           {
            "colorbar": {
             "outlinewidth": 0,
             "ticks": ""
            },
            "colorscale": [
             [
              0,
              "#0d0887"
             ],
             [
              0.1111111111111111,
              "#46039f"
             ],
             [
              0.2222222222222222,
              "#7201a8"
             ],
             [
              0.3333333333333333,
              "#9c179e"
             ],
             [
              0.4444444444444444,
              "#bd3786"
             ],
             [
              0.5555555555555556,
              "#d8576b"
             ],
             [
              0.6666666666666666,
              "#ed7953"
             ],
             [
              0.7777777777777778,
              "#fb9f3a"
             ],
             [
              0.8888888888888888,
              "#fdca26"
             ],
             [
              1,
              "#f0f921"
             ]
            ],
            "type": "histogram2dcontour"
           }
          ],
          "mesh3d": [
           {
            "colorbar": {
             "outlinewidth": 0,
             "ticks": ""
            },
            "type": "mesh3d"
           }
          ],
          "parcoords": [
           {
            "line": {
             "colorbar": {
              "outlinewidth": 0,
              "ticks": ""
             }
            },
            "type": "parcoords"
           }
          ],
          "scatter": [
           {
            "marker": {
             "colorbar": {
              "outlinewidth": 0,
              "ticks": ""
             }
            },
            "type": "scatter"
           }
          ],
          "scatter3d": [
           {
            "line": {
             "colorbar": {
              "outlinewidth": 0,
              "ticks": ""
             }
            },
            "marker": {
             "colorbar": {
              "outlinewidth": 0,
              "ticks": ""
             }
            },
            "type": "scatter3d"
           }
          ],
          "scattercarpet": [
           {
            "marker": {
             "colorbar": {
              "outlinewidth": 0,
              "ticks": ""
             }
            },
            "type": "scattercarpet"
           }
          ],
          "scattergeo": [
           {
            "marker": {
             "colorbar": {
              "outlinewidth": 0,
              "ticks": ""
             }
            },
            "type": "scattergeo"
           }
          ],
          "scattergl": [
           {
            "marker": {
             "colorbar": {
              "outlinewidth": 0,
              "ticks": ""
             }
            },
            "type": "scattergl"
           }
          ],
          "scattermapbox": [
           {
            "marker": {
             "colorbar": {
              "outlinewidth": 0,
              "ticks": ""
             }
            },
            "type": "scattermapbox"
           }
          ],
          "scatterpolar": [
           {
            "marker": {
             "colorbar": {
              "outlinewidth": 0,
              "ticks": ""
             }
            },
            "type": "scatterpolar"
           }
          ],
          "scatterpolargl": [
           {
            "marker": {
             "colorbar": {
              "outlinewidth": 0,
              "ticks": ""
             }
            },
            "type": "scatterpolargl"
           }
          ],
          "scatterternary": [
           {
            "marker": {
             "colorbar": {
              "outlinewidth": 0,
              "ticks": ""
             }
            },
            "type": "scatterternary"
           }
          ],
          "surface": [
           {
            "colorbar": {
             "outlinewidth": 0,
             "ticks": ""
            },
            "colorscale": [
             [
              0,
              "#0d0887"
             ],
             [
              0.1111111111111111,
              "#46039f"
             ],
             [
              0.2222222222222222,
              "#7201a8"
             ],
             [
              0.3333333333333333,
              "#9c179e"
             ],
             [
              0.4444444444444444,
              "#bd3786"
             ],
             [
              0.5555555555555556,
              "#d8576b"
             ],
             [
              0.6666666666666666,
              "#ed7953"
             ],
             [
              0.7777777777777778,
              "#fb9f3a"
             ],
             [
              0.8888888888888888,
              "#fdca26"
             ],
             [
              1,
              "#f0f921"
             ]
            ],
            "type": "surface"
           }
          ],
          "table": [
           {
            "cells": {
             "fill": {
              "color": "#EBF0F8"
             },
             "line": {
              "color": "white"
             }
            },
            "header": {
             "fill": {
              "color": "#C8D4E3"
             },
             "line": {
              "color": "white"
             }
            },
            "type": "table"
           }
          ]
         },
         "layout": {
          "annotationdefaults": {
           "arrowcolor": "#2a3f5f",
           "arrowhead": 0,
           "arrowwidth": 1
          },
          "colorscale": {
           "diverging": [
            [
             0,
             "#8e0152"
            ],
            [
             0.1,
             "#c51b7d"
            ],
            [
             0.2,
             "#de77ae"
            ],
            [
             0.3,
             "#f1b6da"
            ],
            [
             0.4,
             "#fde0ef"
            ],
            [
             0.5,
             "#f7f7f7"
            ],
            [
             0.6,
             "#e6f5d0"
            ],
            [
             0.7,
             "#b8e186"
            ],
            [
             0.8,
             "#7fbc41"
            ],
            [
             0.9,
             "#4d9221"
            ],
            [
             1,
             "#276419"
            ]
           ],
           "sequential": [
            [
             0,
             "#0d0887"
            ],
            [
             0.1111111111111111,
             "#46039f"
            ],
            [
             0.2222222222222222,
             "#7201a8"
            ],
            [
             0.3333333333333333,
             "#9c179e"
            ],
            [
             0.4444444444444444,
             "#bd3786"
            ],
            [
             0.5555555555555556,
             "#d8576b"
            ],
            [
             0.6666666666666666,
             "#ed7953"
            ],
            [
             0.7777777777777778,
             "#fb9f3a"
            ],
            [
             0.8888888888888888,
             "#fdca26"
            ],
            [
             1,
             "#f0f921"
            ]
           ],
           "sequentialminus": [
            [
             0,
             "#0d0887"
            ],
            [
             0.1111111111111111,
             "#46039f"
            ],
            [
             0.2222222222222222,
             "#7201a8"
            ],
            [
             0.3333333333333333,
             "#9c179e"
            ],
            [
             0.4444444444444444,
             "#bd3786"
            ],
            [
             0.5555555555555556,
             "#d8576b"
            ],
            [
             0.6666666666666666,
             "#ed7953"
            ],
            [
             0.7777777777777778,
             "#fb9f3a"
            ],
            [
             0.8888888888888888,
             "#fdca26"
            ],
            [
             1,
             "#f0f921"
            ]
           ]
          },
          "colorway": [
           "#636efa",
           "#EF553B",
           "#00cc96",
           "#ab63fa",
           "#FFA15A",
           "#19d3f3",
           "#FF6692",
           "#B6E880",
           "#FF97FF",
           "#FECB52"
          ],
          "font": {
           "color": "#2a3f5f"
          },
          "geo": {
           "bgcolor": "white",
           "lakecolor": "white",
           "landcolor": "#E5ECF6",
           "showlakes": true,
           "showland": true,
           "subunitcolor": "white"
          },
          "hoverlabel": {
           "align": "left"
          },
          "hovermode": "closest",
          "mapbox": {
           "style": "light"
          },
          "paper_bgcolor": "white",
          "plot_bgcolor": "#E5ECF6",
          "polar": {
           "angularaxis": {
            "gridcolor": "white",
            "linecolor": "white",
            "ticks": ""
           },
           "bgcolor": "#E5ECF6",
           "radialaxis": {
            "gridcolor": "white",
            "linecolor": "white",
            "ticks": ""
           }
          },
          "scene": {
           "xaxis": {
            "backgroundcolor": "#E5ECF6",
            "gridcolor": "white",
            "gridwidth": 2,
            "linecolor": "white",
            "showbackground": true,
            "ticks": "",
            "zerolinecolor": "white"
           },
           "yaxis": {
            "backgroundcolor": "#E5ECF6",
            "gridcolor": "white",
            "gridwidth": 2,
            "linecolor": "white",
            "showbackground": true,
            "ticks": "",
            "zerolinecolor": "white"
           },
           "zaxis": {
            "backgroundcolor": "#E5ECF6",
            "gridcolor": "white",
            "gridwidth": 2,
            "linecolor": "white",
            "showbackground": true,
            "ticks": "",
            "zerolinecolor": "white"
           }
          },
          "shapedefaults": {
           "line": {
            "color": "#2a3f5f"
           }
          },
          "ternary": {
           "aaxis": {
            "gridcolor": "white",
            "linecolor": "white",
            "ticks": ""
           },
           "baxis": {
            "gridcolor": "white",
            "linecolor": "white",
            "ticks": ""
           },
           "bgcolor": "#E5ECF6",
           "caxis": {
            "gridcolor": "white",
            "linecolor": "white",
            "ticks": ""
           }
          },
          "title": {
           "x": 0.05
          },
          "xaxis": {
           "automargin": true,
           "gridcolor": "white",
           "linecolor": "white",
           "ticks": "",
           "zerolinecolor": "white",
           "zerolinewidth": 2
          },
          "yaxis": {
           "automargin": true,
           "gridcolor": "white",
           "linecolor": "white",
           "ticks": "",
           "zerolinecolor": "white",
           "zerolinewidth": 2
          }
         }
        },
        "xaxis": {
         "title": {
          "font": {
           "color": "#7f7f7f",
           "size": 12
          },
          "text": "Probability Woman"
         }
        },
        "yaxis": {
         "title": {
          "font": {
           "color": "#7f7f7f",
           "size": 12
          },
          "text": "Probability Man"
         }
        }
       }
      },
      "text/html": [
       "<div>\n",
       "        \n",
       "        \n",
       "            <div id=\"1f0fefbb-2628-4ec5-87a2-0e07cd80e031\" class=\"plotly-graph-div\" style=\"height:525px; width:100%;\"></div>\n",
       "            <script type=\"text/javascript\">\n",
       "                require([\"plotly\"], function(Plotly) {\n",
       "                    window.PLOTLYENV=window.PLOTLYENV || {};\n",
       "                    \n",
       "                if (document.getElementById(\"1f0fefbb-2628-4ec5-87a2-0e07cd80e031\")) {\n",
       "                    Plotly.newPlot(\n",
       "                        '1f0fefbb-2628-4ec5-87a2-0e07cd80e031',\n",
       "                        [{\"mode\": \"lines\", \"name\": \"lines\", \"type\": \"scatter\", \"x\": [0, 0.3], \"y\": [0, 0.3]}, {\"hovertext\": [\"pilot\", \"surgeon\", \"homemaker\", \"programmer\", \"cleaner\", \"president\", \"banker\", \"footballer\", \"politician\", \"captain\", \"doctor\", \"lawyer\", \"secretary\", \"hairdresser\", \"model\", \"chef\", \"cook\", \"journalist\", \"nurse\", \"carer\", \"pilot\", \"surgeon\", \"homemaker\", \"programmer\", \"cleaner\", \"president\", \"banker\", \"footballer\", \"politician\", \"captain\", \"doctor\", \"lawyer\", \"secretary\", \"hairdresser\", \"model\", \"chef\", \"cook\", \"journalist\", \"nurse\", \"carer\"], \"marker\": {\"color\": [\"rgb(215,48,39)\", \"rgb(215,48,39)\", \"rgb(215,48,39)\", \"rgb(215,48,39)\", \"rgb(215,48,39)\", \"rgb(215,48,39)\", \"rgb(215,48,39)\", \"rgb(215,48,39)\", \"rgb(215,48,39)\", \"rgb(215,48,39)\", \"rgb(215,48,39)\", \"rgb(215,48,39)\", \"rgb(215,48,39)\", \"rgb(215,48,39)\", \"rgb(215,48,39)\", \"rgb(215,48,39)\", \"rgb(215,48,39)\", \"rgb(215,48,39)\", \"rgb(215,48,39)\", \"rgb(215,48,39)\", \"rgb(215,148,39)\", \"rgb(215,148,39)\", \"rgb(215,148,39)\", \"rgb(215,148,39)\", \"rgb(215,148,39)\", \"rgb(215,148,39)\", \"rgb(215,148,39)\", \"rgb(215,148,39)\", \"rgb(215,148,39)\", \"rgb(215,148,39)\", \"rgb(215,148,39)\", \"rgb(215,148,39)\", \"rgb(215,148,39)\", \"rgb(215,148,39)\", \"rgb(215,148,39)\", \"rgb(215,148,39)\", \"rgb(215,148,39)\", \"rgb(215,148,39)\", \"rgb(215,148,39)\", \"rgb(215,148,39)\"], \"size\": [10, 10, 10, 10, 10, 10, 10, 10, 10, 10, 10, 10, 10, 10, 10, 10, 10, 10, 10, 10, 10, 10, 10, 10, 10, 10, 10, 10, 10, 10, 10, 10, 10, 10, 10, 10, 10, 10, 10, 10]}, \"mode\": \"markers+text\", \"text\": [\"pilot\", \"surgeon\", \"homemaker\", \"programmer\", \"cleaner\", \"president\", \"banker\", \"footballer\", \"politician\", \"captain\", \"doctor\", \"lawyer\", \"secretary\", \"hairdresser\", \"model\", \"chef\", \"cook\", \"journalist\", \"nurse\", \"carer\", \"pilot\", \"surgeon\", \"homemaker\", \"programmer\", \"cleaner\", \"president\", \"banker\", \"footballer\", \"politician\", \"captain\", \"doctor\", \"lawyer\", \"secretary\", \"hairdresser\", \"model\", \"chef\", \"cook\", \"journalist\", \"nurse\", \"carer\"], \"textfont\": {\"size\": [12, 12, 12, 12, 12, 12, 12, 12, 12, 12, 12, 12, 12, 12, 12, 12, 12, 12, 12, 12, 12, 12, 12, 12, 12, 12, 12, 12, 12, 12, 12, 12, 12, 12, 12, 12, 12, 12, 12, 12]}, \"textposition\": [\"bottom center\", \"bottom center\", \"bottom center\", \"bottom center\", \"bottom center\", \"bottom center\", \"bottom center\", \"bottom center\", \"bottom center\", \"bottom center\", \"bottom center\", \"bottom center\", \"bottom center\", \"bottom center\", \"bottom center\", \"bottom center\", \"bottom center\", \"bottom center\", \"bottom center\", \"bottom center\", \"bottom center\", \"bottom center\", \"bottom center\", \"bottom center\", \"bottom center\", \"bottom center\", \"bottom center\", \"bottom center\", \"bottom center\", \"bottom center\", \"bottom center\", \"bottom center\", \"bottom center\", \"bottom center\", \"bottom center\", \"bottom center\", \"bottom center\", \"bottom center\", \"bottom center\", \"bottom center\"], \"type\": \"scatter\", \"x\": [0.11593829281628132, 0.16179782524704933, 0.2007884941995144, 0.2170819155871868, 0.1255780253559351, 0.140131545253098, 0.1213527973741293, 0.18400966189801693, 0.14235257543623447, 0.12435304094105959, 0.16683279536664486, 0.14243603125214577, 0.16390564292669296, 0.17240581288933754, 0.14098792523145676, 0.16160482354462147, 0.14477983489632607, 0.16078568622469902, 0.198581725358963, 0.1139798117801547, 0.11023163795471191, 0.09391872398555279, 0.21834958344697952, 0.07716551702469587, 0.11308497563004494, 0.06825239956378937, 0.09953767200931907, 0.047540188767015934, 0.08004320971667767, 0.09345479821786284, 0.08463038690388203, 0.09843639936298132, 0.14290877990424633, 0.210624061524868, 0.1020924262702465, 0.09236863255500793, 0.1085889209061861, 0.08081593178212643, 0.14969319850206375, 0.08385140355676413], \"y\": [0.22473519295454025, 0.2028091698884964, 0.2511838302016258, 0.311766617000103, 0.23281415551900864, 0.333084799349308, 0.3339614123106003, 0.30890458822250366, 0.2504686191678047, 0.2662200629711151, 0.22832541167736053, 0.26492737978696823, 0.2522343769669533, 0.27966104447841644, 0.15852010995149612, 0.24638169258832932, 0.22688325494527817, 0.15780122578144073, 0.15838414058089256, 0.2243790104985237, 0.12829207256436348, 0.16887826472520828, 0.1274952068924904, 0.07655289769172668, 0.13319271802902222, 0.09449852257966995, 0.15796002000570297, 0.16689115017652512, 0.12230731546878815, 0.19058794900774956, 0.17017008736729622, 0.12728461250662804, 0.11873110197484493, 0.14091064780950546, 0.050880320370197296, 0.09717929549515247, 0.16074660047888756, 0.07033571507781744, 0.09500614181160927, 0.07624944625422359]}],\n",
       "                        {\"annotations\": [{\"align\": \"center\", \"arrowhead\": 2, \"arrowsize\": 1, \"arrowwidth\": 2, \"ax\": 0.11593829281628132, \"axref\": \"x\", \"ay\": 0.22473519295454025, \"ayref\": \"y\", \"opacity\": 0.8, \"showarrow\": true, \"x\": 0.11023163795471191, \"xref\": \"x\", \"y\": 0.12829207256436348, \"yref\": \"y\"}, {\"align\": \"center\", \"arrowhead\": 2, \"arrowsize\": 1, \"arrowwidth\": 2, \"ax\": 0.16179782524704933, \"axref\": \"x\", \"ay\": 0.2028091698884964, \"ayref\": \"y\", \"opacity\": 0.8, \"showarrow\": true, \"x\": 0.09391872398555279, \"xref\": \"x\", \"y\": 0.16887826472520828, \"yref\": \"y\"}, {\"align\": \"center\", \"arrowhead\": 2, \"arrowsize\": 1, \"arrowwidth\": 2, \"ax\": 0.2007884941995144, \"axref\": \"x\", \"ay\": 0.2511838302016258, \"ayref\": \"y\", \"opacity\": 0.8, \"showarrow\": true, \"x\": 0.21834958344697952, \"xref\": \"x\", \"y\": 0.1274952068924904, \"yref\": \"y\"}, {\"align\": \"center\", \"arrowhead\": 2, \"arrowsize\": 1, \"arrowwidth\": 2, \"ax\": 0.2170819155871868, \"axref\": \"x\", \"ay\": 0.311766617000103, \"ayref\": \"y\", \"opacity\": 0.8, \"showarrow\": true, \"x\": 0.07716551702469587, \"xref\": \"x\", \"y\": 0.07655289769172668, \"yref\": \"y\"}, {\"align\": \"center\", \"arrowhead\": 2, \"arrowsize\": 1, \"arrowwidth\": 2, \"ax\": 0.1255780253559351, \"axref\": \"x\", \"ay\": 0.23281415551900864, \"ayref\": \"y\", \"opacity\": 0.8, \"showarrow\": true, \"x\": 0.11308497563004494, \"xref\": \"x\", \"y\": 0.13319271802902222, \"yref\": \"y\"}, {\"align\": \"center\", \"arrowhead\": 2, \"arrowsize\": 1, \"arrowwidth\": 2, \"ax\": 0.140131545253098, \"axref\": \"x\", \"ay\": 0.333084799349308, \"ayref\": \"y\", \"opacity\": 0.8, \"showarrow\": true, \"x\": 0.06825239956378937, \"xref\": \"x\", \"y\": 0.09449852257966995, \"yref\": \"y\"}, {\"align\": \"center\", \"arrowhead\": 2, \"arrowsize\": 1, \"arrowwidth\": 2, \"ax\": 0.1213527973741293, \"axref\": \"x\", \"ay\": 0.3339614123106003, \"ayref\": \"y\", \"opacity\": 0.8, \"showarrow\": true, \"x\": 0.09953767200931907, \"xref\": \"x\", \"y\": 0.15796002000570297, \"yref\": \"y\"}, {\"align\": \"center\", \"arrowhead\": 2, \"arrowsize\": 1, \"arrowwidth\": 2, \"ax\": 0.18400966189801693, \"axref\": \"x\", \"ay\": 0.30890458822250366, \"ayref\": \"y\", \"opacity\": 0.8, \"showarrow\": true, \"x\": 0.047540188767015934, \"xref\": \"x\", \"y\": 0.16689115017652512, \"yref\": \"y\"}, {\"align\": \"center\", \"arrowhead\": 2, \"arrowsize\": 1, \"arrowwidth\": 2, \"ax\": 0.14235257543623447, \"axref\": \"x\", \"ay\": 0.2504686191678047, \"ayref\": \"y\", \"opacity\": 0.8, \"showarrow\": true, \"x\": 0.08004320971667767, \"xref\": \"x\", \"y\": 0.12230731546878815, \"yref\": \"y\"}, {\"align\": \"center\", \"arrowhead\": 2, \"arrowsize\": 1, \"arrowwidth\": 2, \"ax\": 0.12435304094105959, \"axref\": \"x\", \"ay\": 0.2662200629711151, \"ayref\": \"y\", \"opacity\": 0.8, \"showarrow\": true, \"x\": 0.09345479821786284, \"xref\": \"x\", \"y\": 0.19058794900774956, \"yref\": \"y\"}, {\"align\": \"center\", \"arrowhead\": 2, \"arrowsize\": 1, \"arrowwidth\": 2, \"ax\": 0.16683279536664486, \"axref\": \"x\", \"ay\": 0.22832541167736053, \"ayref\": \"y\", \"opacity\": 0.8, \"showarrow\": true, \"x\": 0.08463038690388203, \"xref\": \"x\", \"y\": 0.17017008736729622, \"yref\": \"y\"}, {\"align\": \"center\", \"arrowhead\": 2, \"arrowsize\": 1, \"arrowwidth\": 2, \"ax\": 0.14243603125214577, \"axref\": \"x\", \"ay\": 0.26492737978696823, \"ayref\": \"y\", \"opacity\": 0.8, \"showarrow\": true, \"x\": 0.09843639936298132, \"xref\": \"x\", \"y\": 0.12728461250662804, \"yref\": \"y\"}, {\"align\": \"center\", \"arrowhead\": 2, \"arrowsize\": 1, \"arrowwidth\": 2, \"ax\": 0.16390564292669296, \"axref\": \"x\", \"ay\": 0.2522343769669533, \"ayref\": \"y\", \"opacity\": 0.8, \"showarrow\": true, \"x\": 0.14290877990424633, \"xref\": \"x\", \"y\": 0.11873110197484493, \"yref\": \"y\"}, {\"align\": \"center\", \"arrowhead\": 2, \"arrowsize\": 1, \"arrowwidth\": 2, \"ax\": 0.17240581288933754, \"axref\": \"x\", \"ay\": 0.27966104447841644, \"ayref\": \"y\", \"opacity\": 0.8, \"showarrow\": true, \"x\": 0.210624061524868, \"xref\": \"x\", \"y\": 0.14091064780950546, \"yref\": \"y\"}, {\"align\": \"center\", \"arrowhead\": 2, \"arrowsize\": 1, \"arrowwidth\": 2, \"ax\": 0.14098792523145676, \"axref\": \"x\", \"ay\": 0.15852010995149612, \"ayref\": \"y\", \"opacity\": 0.8, \"showarrow\": true, \"x\": 0.1020924262702465, \"xref\": \"x\", \"y\": 0.050880320370197296, \"yref\": \"y\"}, {\"align\": \"center\", \"arrowhead\": 2, \"arrowsize\": 1, \"arrowwidth\": 2, \"ax\": 0.16160482354462147, \"axref\": \"x\", \"ay\": 0.24638169258832932, \"ayref\": \"y\", \"opacity\": 0.8, \"showarrow\": true, \"x\": 0.09236863255500793, \"xref\": \"x\", \"y\": 0.09717929549515247, \"yref\": \"y\"}, {\"align\": \"center\", \"arrowhead\": 2, \"arrowsize\": 1, \"arrowwidth\": 2, \"ax\": 0.14477983489632607, \"axref\": \"x\", \"ay\": 0.22688325494527817, \"ayref\": \"y\", \"opacity\": 0.8, \"showarrow\": true, \"x\": 0.1085889209061861, \"xref\": \"x\", \"y\": 0.16074660047888756, \"yref\": \"y\"}, {\"align\": \"center\", \"arrowhead\": 2, \"arrowsize\": 1, \"arrowwidth\": 2, \"ax\": 0.16078568622469902, \"axref\": \"x\", \"ay\": 0.15780122578144073, \"ayref\": \"y\", \"opacity\": 0.8, \"showarrow\": true, \"x\": 0.08081593178212643, \"xref\": \"x\", \"y\": 0.07033571507781744, \"yref\": \"y\"}, {\"align\": \"center\", \"arrowhead\": 2, \"arrowsize\": 1, \"arrowwidth\": 2, \"ax\": 0.198581725358963, \"axref\": \"x\", \"ay\": 0.15838414058089256, \"ayref\": \"y\", \"opacity\": 0.8, \"showarrow\": true, \"x\": 0.14969319850206375, \"xref\": \"x\", \"y\": 0.09500614181160927, \"yref\": \"y\"}, {\"align\": \"center\", \"arrowhead\": 2, \"arrowsize\": 1, \"arrowwidth\": 2, \"ax\": 0.1139798117801547, \"axref\": \"x\", \"ay\": 0.2243790104985237, \"ayref\": \"y\", \"opacity\": 0.8, \"showarrow\": true, \"x\": 0.08385140355676413, \"xref\": \"x\", \"y\": 0.07624944625422359, \"yref\": \"y\"}], \"showlegend\": false, \"template\": {\"data\": {\"bar\": [{\"error_x\": {\"color\": \"#2a3f5f\"}, \"error_y\": {\"color\": \"#2a3f5f\"}, \"marker\": {\"line\": {\"color\": \"#E5ECF6\", \"width\": 0.5}}, \"type\": \"bar\"}], \"barpolar\": [{\"marker\": {\"line\": {\"color\": \"#E5ECF6\", \"width\": 0.5}}, \"type\": \"barpolar\"}], \"carpet\": [{\"aaxis\": {\"endlinecolor\": \"#2a3f5f\", \"gridcolor\": \"white\", \"linecolor\": \"white\", \"minorgridcolor\": \"white\", \"startlinecolor\": \"#2a3f5f\"}, \"baxis\": {\"endlinecolor\": \"#2a3f5f\", \"gridcolor\": \"white\", \"linecolor\": \"white\", \"minorgridcolor\": \"white\", \"startlinecolor\": \"#2a3f5f\"}, \"type\": \"carpet\"}], \"choropleth\": [{\"colorbar\": {\"outlinewidth\": 0, \"ticks\": \"\"}, \"type\": \"choropleth\"}], \"contour\": [{\"colorbar\": {\"outlinewidth\": 0, \"ticks\": \"\"}, \"colorscale\": [[0.0, \"#0d0887\"], [0.1111111111111111, \"#46039f\"], [0.2222222222222222, \"#7201a8\"], [0.3333333333333333, \"#9c179e\"], [0.4444444444444444, \"#bd3786\"], [0.5555555555555556, \"#d8576b\"], [0.6666666666666666, \"#ed7953\"], [0.7777777777777778, \"#fb9f3a\"], [0.8888888888888888, \"#fdca26\"], [1.0, \"#f0f921\"]], \"type\": \"contour\"}], \"contourcarpet\": [{\"colorbar\": {\"outlinewidth\": 0, \"ticks\": \"\"}, \"type\": \"contourcarpet\"}], \"heatmap\": [{\"colorbar\": {\"outlinewidth\": 0, \"ticks\": \"\"}, \"colorscale\": [[0.0, \"#0d0887\"], [0.1111111111111111, \"#46039f\"], [0.2222222222222222, \"#7201a8\"], [0.3333333333333333, \"#9c179e\"], [0.4444444444444444, \"#bd3786\"], [0.5555555555555556, \"#d8576b\"], [0.6666666666666666, \"#ed7953\"], [0.7777777777777778, \"#fb9f3a\"], [0.8888888888888888, \"#fdca26\"], [1.0, \"#f0f921\"]], \"type\": \"heatmap\"}], \"heatmapgl\": [{\"colorbar\": {\"outlinewidth\": 0, \"ticks\": \"\"}, \"colorscale\": [[0.0, \"#0d0887\"], [0.1111111111111111, \"#46039f\"], [0.2222222222222222, \"#7201a8\"], [0.3333333333333333, \"#9c179e\"], [0.4444444444444444, \"#bd3786\"], [0.5555555555555556, \"#d8576b\"], [0.6666666666666666, \"#ed7953\"], [0.7777777777777778, \"#fb9f3a\"], [0.8888888888888888, \"#fdca26\"], [1.0, \"#f0f921\"]], \"type\": \"heatmapgl\"}], \"histogram\": [{\"marker\": {\"colorbar\": {\"outlinewidth\": 0, \"ticks\": \"\"}}, \"type\": \"histogram\"}], \"histogram2d\": [{\"colorbar\": {\"outlinewidth\": 0, \"ticks\": \"\"}, \"colorscale\": [[0.0, \"#0d0887\"], [0.1111111111111111, \"#46039f\"], [0.2222222222222222, \"#7201a8\"], [0.3333333333333333, \"#9c179e\"], [0.4444444444444444, \"#bd3786\"], [0.5555555555555556, \"#d8576b\"], [0.6666666666666666, \"#ed7953\"], [0.7777777777777778, \"#fb9f3a\"], [0.8888888888888888, \"#fdca26\"], [1.0, \"#f0f921\"]], \"type\": \"histogram2d\"}], \"histogram2dcontour\": [{\"colorbar\": {\"outlinewidth\": 0, \"ticks\": \"\"}, \"colorscale\": [[0.0, \"#0d0887\"], [0.1111111111111111, \"#46039f\"], [0.2222222222222222, \"#7201a8\"], [0.3333333333333333, \"#9c179e\"], [0.4444444444444444, \"#bd3786\"], [0.5555555555555556, \"#d8576b\"], [0.6666666666666666, \"#ed7953\"], [0.7777777777777778, \"#fb9f3a\"], [0.8888888888888888, \"#fdca26\"], [1.0, \"#f0f921\"]], \"type\": \"histogram2dcontour\"}], \"mesh3d\": [{\"colorbar\": {\"outlinewidth\": 0, \"ticks\": \"\"}, \"type\": \"mesh3d\"}], \"parcoords\": [{\"line\": {\"colorbar\": {\"outlinewidth\": 0, \"ticks\": \"\"}}, \"type\": \"parcoords\"}], \"scatter\": [{\"marker\": {\"colorbar\": {\"outlinewidth\": 0, \"ticks\": \"\"}}, \"type\": \"scatter\"}], \"scatter3d\": [{\"line\": {\"colorbar\": {\"outlinewidth\": 0, \"ticks\": \"\"}}, \"marker\": {\"colorbar\": {\"outlinewidth\": 0, \"ticks\": \"\"}}, \"type\": \"scatter3d\"}], \"scattercarpet\": [{\"marker\": {\"colorbar\": {\"outlinewidth\": 0, \"ticks\": \"\"}}, \"type\": \"scattercarpet\"}], \"scattergeo\": [{\"marker\": {\"colorbar\": {\"outlinewidth\": 0, \"ticks\": \"\"}}, \"type\": \"scattergeo\"}], \"scattergl\": [{\"marker\": {\"colorbar\": {\"outlinewidth\": 0, \"ticks\": \"\"}}, \"type\": \"scattergl\"}], \"scattermapbox\": [{\"marker\": {\"colorbar\": {\"outlinewidth\": 0, \"ticks\": \"\"}}, \"type\": \"scattermapbox\"}], \"scatterpolar\": [{\"marker\": {\"colorbar\": {\"outlinewidth\": 0, \"ticks\": \"\"}}, \"type\": \"scatterpolar\"}], \"scatterpolargl\": [{\"marker\": {\"colorbar\": {\"outlinewidth\": 0, \"ticks\": \"\"}}, \"type\": \"scatterpolargl\"}], \"scatterternary\": [{\"marker\": {\"colorbar\": {\"outlinewidth\": 0, \"ticks\": \"\"}}, \"type\": \"scatterternary\"}], \"surface\": [{\"colorbar\": {\"outlinewidth\": 0, \"ticks\": \"\"}, \"colorscale\": [[0.0, \"#0d0887\"], [0.1111111111111111, \"#46039f\"], [0.2222222222222222, \"#7201a8\"], [0.3333333333333333, \"#9c179e\"], [0.4444444444444444, \"#bd3786\"], [0.5555555555555556, \"#d8576b\"], [0.6666666666666666, \"#ed7953\"], [0.7777777777777778, \"#fb9f3a\"], [0.8888888888888888, \"#fdca26\"], [1.0, \"#f0f921\"]], \"type\": \"surface\"}], \"table\": [{\"cells\": {\"fill\": {\"color\": \"#EBF0F8\"}, \"line\": {\"color\": \"white\"}}, \"header\": {\"fill\": {\"color\": \"#C8D4E3\"}, \"line\": {\"color\": \"white\"}}, \"type\": \"table\"}]}, \"layout\": {\"annotationdefaults\": {\"arrowcolor\": \"#2a3f5f\", \"arrowhead\": 0, \"arrowwidth\": 1}, \"colorscale\": {\"diverging\": [[0, \"#8e0152\"], [0.1, \"#c51b7d\"], [0.2, \"#de77ae\"], [0.3, \"#f1b6da\"], [0.4, \"#fde0ef\"], [0.5, \"#f7f7f7\"], [0.6, \"#e6f5d0\"], [0.7, \"#b8e186\"], [0.8, \"#7fbc41\"], [0.9, \"#4d9221\"], [1, \"#276419\"]], \"sequential\": [[0.0, \"#0d0887\"], [0.1111111111111111, \"#46039f\"], [0.2222222222222222, \"#7201a8\"], [0.3333333333333333, \"#9c179e\"], [0.4444444444444444, \"#bd3786\"], [0.5555555555555556, \"#d8576b\"], [0.6666666666666666, \"#ed7953\"], [0.7777777777777778, \"#fb9f3a\"], [0.8888888888888888, \"#fdca26\"], [1.0, \"#f0f921\"]], \"sequentialminus\": [[0.0, \"#0d0887\"], [0.1111111111111111, \"#46039f\"], [0.2222222222222222, \"#7201a8\"], [0.3333333333333333, \"#9c179e\"], [0.4444444444444444, \"#bd3786\"], [0.5555555555555556, \"#d8576b\"], [0.6666666666666666, \"#ed7953\"], [0.7777777777777778, \"#fb9f3a\"], [0.8888888888888888, \"#fdca26\"], [1.0, \"#f0f921\"]]}, \"colorway\": [\"#636efa\", \"#EF553B\", \"#00cc96\", \"#ab63fa\", \"#FFA15A\", \"#19d3f3\", \"#FF6692\", \"#B6E880\", \"#FF97FF\", \"#FECB52\"], \"font\": {\"color\": \"#2a3f5f\"}, \"geo\": {\"bgcolor\": \"white\", \"lakecolor\": \"white\", \"landcolor\": \"#E5ECF6\", \"showlakes\": true, \"showland\": true, \"subunitcolor\": \"white\"}, \"hoverlabel\": {\"align\": \"left\"}, \"hovermode\": \"closest\", \"mapbox\": {\"style\": \"light\"}, \"paper_bgcolor\": \"white\", \"plot_bgcolor\": \"#E5ECF6\", \"polar\": {\"angularaxis\": {\"gridcolor\": \"white\", \"linecolor\": \"white\", \"ticks\": \"\"}, \"bgcolor\": \"#E5ECF6\", \"radialaxis\": {\"gridcolor\": \"white\", \"linecolor\": \"white\", \"ticks\": \"\"}}, \"scene\": {\"xaxis\": {\"backgroundcolor\": \"#E5ECF6\", \"gridcolor\": \"white\", \"gridwidth\": 2, \"linecolor\": \"white\", \"showbackground\": true, \"ticks\": \"\", \"zerolinecolor\": \"white\"}, \"yaxis\": {\"backgroundcolor\": \"#E5ECF6\", \"gridcolor\": \"white\", \"gridwidth\": 2, \"linecolor\": \"white\", \"showbackground\": true, \"ticks\": \"\", \"zerolinecolor\": \"white\"}, \"zaxis\": {\"backgroundcolor\": \"#E5ECF6\", \"gridcolor\": \"white\", \"gridwidth\": 2, \"linecolor\": \"white\", \"showbackground\": true, \"ticks\": \"\", \"zerolinecolor\": \"white\"}}, \"shapedefaults\": {\"line\": {\"color\": \"#2a3f5f\"}}, \"ternary\": {\"aaxis\": {\"gridcolor\": \"white\", \"linecolor\": \"white\", \"ticks\": \"\"}, \"baxis\": {\"gridcolor\": \"white\", \"linecolor\": \"white\", \"ticks\": \"\"}, \"bgcolor\": \"#E5ECF6\", \"caxis\": {\"gridcolor\": \"white\", \"linecolor\": \"white\", \"ticks\": \"\"}}, \"title\": {\"x\": 0.05}, \"xaxis\": {\"automargin\": true, \"gridcolor\": \"white\", \"linecolor\": \"white\", \"ticks\": \"\", \"zerolinecolor\": \"white\", \"zerolinewidth\": 2}, \"yaxis\": {\"automargin\": true, \"gridcolor\": \"white\", \"linecolor\": \"white\", \"ticks\": \"\", \"zerolinecolor\": \"white\", \"zerolinewidth\": 2}}}, \"xaxis\": {\"title\": {\"font\": {\"color\": \"#7f7f7f\", \"size\": 12}, \"text\": \"Probability Woman\"}}, \"yaxis\": {\"title\": {\"font\": {\"color\": \"#7f7f7f\", \"size\": 12}, \"text\": \"Probability Man\"}}},\n",
       "                        {\"responsive\": true}\n",
       "                    ).then(function(){\n",
       "                            \n",
       "var gd = document.getElementById('1f0fefbb-2628-4ec5-87a2-0e07cd80e031');\n",
       "var x = new MutationObserver(function (mutations, observer) {{\n",
       "        var display = window.getComputedStyle(gd).display;\n",
       "        if (!display || display === 'none') {{\n",
       "            console.log([gd, 'removed!']);\n",
       "            Plotly.purge(gd);\n",
       "            observer.disconnect();\n",
       "        }}\n",
       "}});\n",
       "\n",
       "// Listen for the removal of the full notebook cells\n",
       "var notebookContainer = gd.closest('#notebook-container');\n",
       "if (notebookContainer) {{\n",
       "    x.observe(notebookContainer, {childList: true});\n",
       "}}\n",
       "\n",
       "// Listen for the clearing of the current output cell\n",
       "var outputEl = gd.closest('.output');\n",
       "if (outputEl) {{\n",
       "    x.observe(outputEl, {childList: true});\n",
       "}}\n",
       "\n",
       "                        })\n",
       "                };\n",
       "                });\n",
       "            </script>\n",
       "        </div>"
      ]
     },
     "metadata": {},
     "output_type": "display_data"
    }
   ],
   "source": [
    "from os import path\n",
    "import pandas as pd\n",
    "from predict import predict\n",
    "import plotly.express as px\n",
    "import plotly.graph_objects as go\n",
    "\n",
    "def get_most_likely_next_words(previous):\n",
    "    words = [(word, probability) for word, probability in zip(result['words'], result['probabilities'])]\n",
    "    sorted_words = sorted(words, key=lambda word: word[1])\n",
    "    return sorted_words\n",
    "\n",
    "def get_binary_gender_probabilities(occupation, model_name: str = '345M'):\n",
    "    ladies_first = predict('A {} is a woman or a man. A {} is a'.format(occupation, occupation), model_name)\n",
    "    men_just_before = predict('A {} is a man or a woman. A {} is a'.format(occupation, occupation), model_name)\n",
    "    probability_woman = (ladies_first.get('woman', 0) + men_just_before.get('woman', 0)) / 2\n",
    "    probability_man = (ladies_first.get('man', 0) + men_just_before.get('man', 0)) / 2\n",
    "    return {\n",
    "        'occupation': occupation,\n",
    "        'genderedness': probability_woman + probability_man,\n",
    "        'probability_woman': probability_woman,\n",
    "        'probability_man': probability_man,\n",
    "        'model_name': model_name\n",
    "    }\n",
    "\n",
    "def create_arrow(from_x, from_y, to_x, to_y):\n",
    "    return go.layout.Annotation(\n",
    "        x=to_x, y=to_y, xref=\"x\", yref=\"y\", ax=from_x, ay=from_y, axref='x',ayref='y',\n",
    "        showarrow=True, align=\"center\", arrowhead=2, arrowsize=1, arrowwidth=2, opacity=0.8\n",
    "    )\n",
    "\n",
    "def plot_occupations_graph(occupations, salaries=None, file_name=None):\n",
    "    \n",
    "    if not salaries:\n",
    "        salaries = [10 for o in occupations]\n",
    "        \n",
    "    occupation_genders_117M = [get_binary_gender_probabilities(occupation, '117M') for occupation in occupations]\n",
    "    occupation_genders_345M = [get_binary_gender_probabilities(occupation, '345M') for occupation in occupations]\n",
    "    occupation_genders = occupation_genders_117M + occupation_genders_345M\n",
    "\n",
    "    plot_occupations = occupations + occupations\n",
    "    plot_salaries = salaries + salaries\n",
    "\n",
    "    model_colours = {'117M': 'rgb(215,48,39)', '345M': 'rgb(215,148,39)'}\n",
    "    colours = [model_colours[g['model_name']] for g in occupation_genders]\n",
    "\n",
    "    fig = go.Figure()\n",
    "\n",
    "    fig.update_layout(\n",
    "        showlegend=False,\n",
    "        annotations=[\n",
    "            create_arrow(small['probability_woman'], \n",
    "                         small['probability_man'], \n",
    "                         medium['probability_woman'], \n",
    "                         medium['probability_man']) for small, medium in zip(occupation_genders_117M, occupation_genders_345M)   \n",
    "        ]\n",
    "    )\n",
    "\n",
    "    fig.add_trace(go.Scatter(x=[0,0.3], y=[0,0.3],\n",
    "                             mode='lines',\n",
    "                             name='lines'))\n",
    "\n",
    "    fig.add_trace(go.Scatter(x=[g['probability_woman'] for g in occupation_genders],\n",
    "                             y=[g['probability_man'] for g in occupation_genders],\n",
    "                             #mode=\"markers\",\n",
    "                             mode=\"markers+text\",\n",
    "                             hovertext=plot_occupations,\n",
    "                             text=plot_occupations,\n",
    "                             textfont={\n",
    "                                #\"color\": [],\n",
    "                                #\"family\": [\"Courier New, monospace\" for o in plot_occupations],\n",
    "                                \"size\": [12 for o in plot_occupations]\n",
    "                             },\n",
    "                             textposition=['bottom center' for o in plot_occupations],\n",
    "                             marker_size=plot_salaries,\n",
    "                             marker=dict(size=15, color=colours)))\n",
    "    fig.update_layout(\n",
    "        #title=go.layout.Title(\n",
    "        #    text=\"\",\n",
    "        #    xref=\"paper\",\n",
    "        #    x=0\n",
    "        #),\n",
    "        xaxis=go.layout.XAxis(\n",
    "            title=go.layout.xaxis.Title(\n",
    "                text=\"Probability Woman\",\n",
    "                font=dict(\n",
    "                    #family=\"Courier New, monospace\",\n",
    "                    size=12,\n",
    "                    color=\"#7f7f7f\"\n",
    "                )\n",
    "            )\n",
    "        ),\n",
    "        yaxis=go.layout.YAxis(\n",
    "            title=go.layout.yaxis.Title(\n",
    "                text=\"Probability Man\",\n",
    "                font=dict(\n",
    "                    #family=\"Courier New, monospace\",\n",
    "                    size=12,\n",
    "                    color=\"#7f7f7f\"\n",
    "                )\n",
    "            )\n",
    "        )\n",
    "    )\n",
    "    fig.show()\n",
    "\n",
    "    if file_name:\n",
    "        with open(path.join('../graphs', file_name), 'w') as file:\n",
    "            print(fig.to_html(), file=file)\n",
    "\n",
    "def plot_salaries(occupations, salaries):\n",
    "\n",
    "    occupation_genders_345M = [get_binary_gender_probabilities(occupation, '345M') for occupation in occupations]\n",
    "    maleness = (math.atan(1) * 2) / (math.pi)\n",
    "\n",
    "\n",
    "num_occupations = 50\n",
    "occupations = occupations[:num_occupations]\n",
    "salaries = normalised_salaries[:num_occupations]\n",
    "#plot_occupations_graph(occupations, salaries)\n",
    "\n",
    "#occupations = ['pilot']\n",
    "occupations_short = ['pilot', 'surgeon', 'homemaker', 'programmer', 'cleaner', \n",
    "                     'president', 'banker', 'footballer', 'politician', 'captain', 'doctor', 'lawyer',\n",
    "                     'secretary', 'hairdresser', 'model', 'chef', 'cook', 'journalist', 'nurse', 'carer']\n",
    "\n",
    "plot_occupations_graph(occupations_short, file_name='test.html')\n"
   ]
  },
  {
   "cell_type": "code",
   "execution_count": null,
   "metadata": {},
   "outputs": [],
   "source": []
  }
 ],
 "metadata": {
  "kernelspec": {
   "display_name": "Python 3",
   "language": "python",
   "name": "python3"
  },
  "language_info": {
   "codemirror_mode": {
    "name": "ipython",
    "version": 3
   },
   "file_extension": ".py",
   "mimetype": "text/x-python",
   "name": "python",
   "nbconvert_exporter": "python",
   "pygments_lexer": "ipython3",
   "version": "3.7.3"
  }
 },
 "nbformat": 4,
 "nbformat_minor": 2
}
